{
 "cells": [
  {
   "cell_type": "code",
   "execution_count": null,
   "id": "aef5c7f8-bf67-4c2e-aa8c-f843059e3d17",
   "metadata": {},
   "outputs": [],
   "source": [
    "import sys\n",
    "import scanpy as sc\n",
    "import anndata\n",
    "import pandas as pd\n",
    "import numpy as np\n",
    "import matplotlib.pyplot as plt\n",
    "import matplotlib as mpl\n",
    "import os\n",
    "import cell2location\n",
    "import scvi\n",
    "from matplotlib import rcParams\n",
    "rcParams['pdf.fonttype'] = 42 # enables correct plotting of text\n",
    "import seaborn as sns"
   ]
  },
  {
   "cell_type": "code",
   "execution_count": null,
   "id": "0e37ec0d-8ab0-495e-a57d-f4bdb29d3067",
   "metadata": {},
   "outputs": [],
   "source": [
    "results_folder = './results/mouseDSS/'\n",
    "ref_run_name = f'{results_folder}/reference_signatures'\n",
    "run_name = f'{results_folder}/cell2location_map'"
   ]
  },
  {
   "cell_type": "code",
   "execution_count": null,
   "id": "5f9291db-de5d-4036-8b2a-4f875ec1f680",
   "metadata": {},
   "outputs": [],
   "source": [
    "adata_ref = sc.read_h5ad(\"mouseDSSstromal.h5ad\")"
   ]
  },
  {
   "cell_type": "code",
   "execution_count": null,
   "id": "d62f30a9-1f42-4c86-b708-7174be29628c",
   "metadata": {},
   "outputs": [],
   "source": [
    "adata_vis = sc.read_visium(\"./rawfiles/V19S23-097_B1/\")\n",
    "adata_vis.var_names_make_unique()\n",
    "adata_vis.var[\"mt\"] = adata_vis.var_names.str.startswith(\"mt-\")\n",
    "sc.pp.calculate_qc_metrics(adata_vis, qc_vars=[\"mt\"], inplace=True)\n",
    "\n",
    "sc.pp.filter_cells(adata_vis, min_counts=4000)\n",
    "print(f\"#cells after min filter: {adata_vis.n_obs}\")\n",
    "sc.pp.filter_cells(adata_vis, max_counts=32000)\n",
    "print(f\"#cells after max filter: {adata_vis.n_obs}\")\n",
    "adata_vis = adata_vis[adata_vis.obs[\"pct_counts_mt\"] < 20]\n",
    "print(f\"#cells after MT filter: {adata_vis.n_obs}\")\n",
    "sc.pp.filter_genes(adata_vis, min_cells=10)\n",
    "\n",
    "# lncRNA and mitochondrial protein coding genes are deleted as original paper \n",
    "genestokeep = pd.read_csv('genestokeep.csv')\n",
    "genestokeep = list(genestokeep[\"Genes\"])\n",
    "genestokeep = np.in1d(adata_vis.var_names.values.astype(str), genestokeep)\n",
    "adata_vis = adata_vis[:,genestokeep]\n",
    "adata_vis.obs['sample'] = list(adata_vis.uns['spatial'].keys())[0]\n",
    "del genestokeep"
   ]
  },
  {
   "cell_type": "code",
   "execution_count": null,
   "id": "f34d978e-068d-48a4-8633-16a47f51cba6",
   "metadata": {},
   "outputs": [],
   "source": [
    "scvi.data.setup_anndata(adata=adata_ref,\n",
    "                        # 10X reaction / sample / batch\n",
    "                        batch_key='donor',\n",
    "                        # cell type, covariate used for constructing signatures\n",
    "                        labels_key='Cluster'\n",
    "                        # multiplicative technical effects (platform, 3' vs 5', donor effect)\n",
    "                       )\n",
    "scvi.data.view_anndata_setup(adata_ref)"
   ]
  },
  {
   "cell_type": "code",
   "execution_count": null,
   "id": "f9279ede-3ca9-4637-9d97-edaab0c2bf86",
   "metadata": {},
   "outputs": [],
   "source": [
    "from cell2location.models import RegressionModel\n",
    "mod = RegressionModel(adata_ref)\n",
    "mod.train(max_epochs=250, batch_size=2500, train_size=1, lr=0.001, use_gpu=True)\n",
    "mod.plot_history(20)"
   ]
  },
  {
   "cell_type": "code",
   "execution_count": null,
   "id": "bdac24ff-efee-437b-ad69-719e5d25a50a",
   "metadata": {},
   "outputs": [],
   "source": [
    "adata_ref = mod.export_posterior(\n",
    "    adata_ref, sample_kwargs={'num_samples': 1000, 'batch_size': 2500, 'use_gpu': True}\n",
    ")\n",
    "mod.save(f\"{ref_run_name}\", overwrite=True)\n",
    "adata_file = f\"{ref_run_name}/sc.h5ad\"\n",
    "adata_ref.write(adata_file)\n",
    "mod = cell2location.models.RegressionModel.load(f\"{ref_run_name}\", adata_ref)\n",
    "adata_file = f\"{ref_run_name}/sc.h5ad\"\n",
    "adata_ref = sc.read_h5ad(adata_file)"
   ]
  },
  {
   "cell_type": "code",
   "execution_count": null,
   "id": "d077d285-0cba-4077-b932-d3a0ae7a9135",
   "metadata": {},
   "outputs": [],
   "source": [
    "if 'means_per_cluster_mu_fg' in adata_ref.varm.keys():\n",
    "    inf_aver = adata_ref.varm['means_per_cluster_mu_fg'][[f'means_per_cluster_mu_fg_{i}'\n",
    "                                    for i in adata_ref.uns['mod']['factor_names']]].copy()\n",
    "else:\n",
    "    inf_aver = adata_ref.var[[f'means_per_cluster_mu_fg_{i}'\n",
    "                                    for i in adata_ref.uns['mod']['factor_names']]].copy()\n",
    "inf_aver.columns = adata_ref.uns['mod']['factor_names']\n",
    "inf_aver.iloc[0:5, 0:5]"
   ]
  },
  {
   "cell_type": "code",
   "execution_count": null,
   "id": "65734c93-096d-4533-a74d-6b2f3c0135f4",
   "metadata": {},
   "outputs": [],
   "source": [
    "intersect = np.intersect1d(adata_vis.var_names, inf_aver.index)\n",
    "adata_vis = adata_vis[:, intersect].copy()\n",
    "inf_aver = inf_aver.loc[intersect, :].copy()\n",
    "scvi.data.setup_anndata(adata=adata_vis, batch_key=\"sample\")\n",
    "scvi.data.view_anndata_setup(adata_vis)"
   ]
  },
  {
   "cell_type": "code",
   "execution_count": null,
   "id": "3289c1d3-e4dc-4773-9528-c3396bc4c829",
   "metadata": {},
   "outputs": [],
   "source": [
    "mod = cell2location.models.Cell2location(\n",
    "    adata_vis, cell_state_df=inf_aver,\n",
    "    detection_alpha=200\n",
    ")\n",
    "\n",
    "mod.train(max_epochs=30000,\n",
    "          batch_size=None,\n",
    "          train_size=1,\n",
    "          use_gpu=True)\n",
    "mod.plot_history(1000)\n",
    "plt.legend(labels=['full data training']);"
   ]
  },
  {
   "cell_type": "code",
   "execution_count": null,
   "id": "36f764ab-4e08-4e48-a81f-daca48ad9b54",
   "metadata": {},
   "outputs": [],
   "source": [
    "adata_vis = mod.export_posterior(\n",
    "    adata_vis, sample_kwargs={'num_samples': 1000, 'batch_size': mod.adata.n_obs, 'use_gpu': True}\n",
    ")\n",
    "\n",
    "# Save model\n",
    "mod.save(f\"{run_name}\", overwrite=True)\n",
    "adata_file = f\"{run_name}/sp.h5ad\"\n",
    "adata_vis.write(adata_file)\n",
    "adata_file"
   ]
  },
  {
   "cell_type": "code",
   "execution_count": null,
   "id": "44c1046a-6240-4724-8a7d-399417f9fb7a",
   "metadata": {},
   "outputs": [],
   "source": [
    "mod = cell2location.models.Cell2location.load(f\"{run_name}\", adata_vis)\n",
    "adata_file = f\"{run_name}/sp.h5ad\"\n",
    "adata_vis = sc.read_h5ad(adata_file)"
   ]
  },
  {
   "cell_type": "code",
   "execution_count": null,
   "id": "79021d2f-8967-4d7a-ab55-01259ffc4707",
   "metadata": {},
   "outputs": [],
   "source": [
    "adata_vis.obs[adata_vis.uns['mod']['factor_names']] = adata_vis.obsm['q05_cell_abundance_w_sf']"
   ]
  },
  {
   "cell_type": "code",
   "execution_count": null,
   "id": "4ecbb5b3-cfca-463d-b4c2-0f5968641cd4",
   "metadata": {},
   "outputs": [],
   "source": [
    "mod.samples = adata_vis.uns['mod']"
   ]
  },
  {
   "cell_type": "code",
   "execution_count": null,
   "id": "d081d73e-a684-434d-9a0f-ee1c6a9c86ac",
   "metadata": {},
   "outputs": [],
   "source": [
    "expected_dict = mod.module.model.compute_expected_per_cell_type(\n",
    "    mod.samples[\"post_sample_q05\"], mod.adata\n",
    ")\n",
    "for i, n in enumerate(mod.factor_names_):\n",
    "    adata_vis.layers[n] = expected_dict['mu'][i]"
   ]
  },
  {
   "cell_type": "code",
   "execution_count": null,
   "id": "3ca079be-88af-4523-94f2-12290e8a0bd4",
   "metadata": {},
   "outputs": [],
   "source": [
    "adata_vis.write('DSSmousewithcelltypredictions.h5ad')"
   ]
  }
 ],
 "metadata": {
  "kernelspec": {
   "display_name": "Python 3 (ipykernel)",
   "language": "python",
   "name": "python3"
  },
  "language_info": {
   "codemirror_mode": {
    "name": "ipython",
    "version": 3
   },
   "file_extension": ".py",
   "mimetype": "text/x-python",
   "name": "python",
   "nbconvert_exporter": "python",
   "pygments_lexer": "ipython3",
   "version": "3.9.7"
  }
 },
 "nbformat": 4,
 "nbformat_minor": 5
}
