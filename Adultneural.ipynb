{
 "cells": [
  {
   "cell_type": "code",
   "execution_count": null,
   "id": "d16c343c-5874-4745-9a64-bbde26c923f7",
   "metadata": {},
   "outputs": [],
   "source": [
    "import sys\n",
    "import scanpy as sc\n",
    "import anndata\n",
    "import pandas as pd\n",
    "import numpy as np\n",
    "import matplotlib.pyplot as plt\n",
    "import matplotlib as mpl\n",
    "import os\n",
    "import cell2location\n",
    "import scvi\n",
    "from matplotlib import rcParams\n",
    "rcParams['pdf.fonttype'] = 42 # enables correct plotting of text\n",
    "import seaborn as sns"
   ]
  },
  {
   "cell_type": "code",
   "execution_count": null,
   "id": "b7cfc702-2328-4257-bb85-6733f3a40695",
   "metadata": {},
   "outputs": [],
   "source": [
    "results_folder = './results/A1neural/'\n",
    "ref_run_name = f'{results_folder}/reference_signatures'\n",
    "run_name = f'{results_folder}/cell2location_map'"
   ]
  },
  {
   "cell_type": "code",
   "execution_count": null,
   "id": "d6923ae2-e73a-4ff4-a510-d623de07607a",
   "metadata": {},
   "outputs": [],
   "source": [
    "adata_vis = sc.read_visium(\"./rawfiles/A1/\")\n",
    "adata_vis.var_names_make_unique()\n",
    "adata_vis.var[\"mt\"] = adata_vis.var_names.str.startswith(\"MT-\")\n",
    "sc.pp.calculate_qc_metrics(adata_vis, qc_vars=[\"mt\"], inplace=True)\n",
    "sc.pp.filter_cells(adata_vis, min_counts=500)\n",
    "print(f\"#cells after min filter: {adata_vis.n_obs}\")\n",
    "sc.pp.filter_cells(adata_vis, max_counts=18000)\n",
    "print(f\"#cells after max filter: {adata_vis.n_obs}\")\n",
    "adata_vis = adata_vis[adata_vis.obs[\"pct_counts_mt\"] < 20]\n",
    "print(f\"#cells after MT filter: {adata_vis.n_obs}\")\n",
    "sc.pp.filter_genes(adata_vis, min_cells=10)\n",
    "adata_vis.obs['sample'] = list(adata_vis.uns['spatial'].keys())[0]"
   ]
  },
  {
   "cell_type": "code",
   "execution_count": null,
   "id": "fd73fa76-910e-478c-b918-a93d66087bed",
   "metadata": {},
   "outputs": [],
   "source": [
    "adata_ref = sc.read_h5ad(\"neural.h5ad\")\n"
   ]
  },
  {
   "cell_type": "code",
   "execution_count": null,
   "id": "018f7075-dd6f-49c3-a7cb-454cfa4f01d8",
   "metadata": {},
   "outputs": [],
   "source": [
    "scvi.data.setup_anndata(adata=adata_ref,\n",
    "                        batch_key='Sample',\n",
    "                        labels_key='Cluster'\n",
    "                       )\n",
    "scvi.data.view_anndata_setup(adata_ref)"
   ]
  },
  {
   "cell_type": "code",
   "execution_count": null,
   "id": "1117a969-69af-4e91-aab7-f5385906b105",
   "metadata": {},
   "outputs": [],
   "source": [
    "from cell2location.models import RegressionModel\n",
    "mod = RegressionModel(adata_ref)\n",
    "mod.train(max_epochs=250, batch_size=2500, train_size=1, lr=0.001, use_gpu=False)\n"
   ]
  },
  {
   "cell_type": "code",
   "execution_count": null,
   "id": "95e02480-78b4-46a6-a558-22b4407e83f1",
   "metadata": {},
   "outputs": [],
   "source": [
    "adata_ref = mod.export_posterior(\n",
    "    adata_ref, sample_kwargs={'num_samples': 1000, 'batch_size': 2500, 'use_gpu': False}\n",
    ")"
   ]
  },
  {
   "cell_type": "code",
   "execution_count": null,
   "id": "c37620b0-62e8-46b4-9e20-ec7482660772",
   "metadata": {},
   "outputs": [],
   "source": [
    "if 'means_per_cluster_mu_fg' in adata_ref.varm.keys():\n",
    "    inf_aver = adata_ref.varm['means_per_cluster_mu_fg'][[f'means_per_cluster_mu_fg_{i}'\n",
    "                                    for i in adata_ref.uns['mod']['factor_names']]].copy()\n",
    "else:\n",
    "    inf_aver = adata_ref.var[[f'means_per_cluster_mu_fg_{i}'\n",
    "                                    for i in adata_ref.uns['mod']['factor_names']]].copy()\n",
    "inf_aver.columns = adata_ref.uns['mod']['factor_names']\n",
    "inf_aver.iloc[0:5, 0:5]"
   ]
  },
  {
   "cell_type": "code",
   "execution_count": null,
   "id": "a850fbca-5f98-4467-a3af-184144b4500a",
   "metadata": {},
   "outputs": [],
   "source": [
    "adata_vis.var['MT_gene'] = [gene.startswith('MT-') for gene in adata_vis.var.index]\n",
    "adata_vis.obsm['MT'] = adata_vis[:, adata_vis.var['MT_gene'].values].X.toarray()\n",
    "adata_vis = adata_vis[:, ~adata_vis.var['MT_gene'].values]"
   ]
  },
  {
   "cell_type": "code",
   "execution_count": null,
   "id": "27c7d23f-3f21-4865-8b34-4f6d3bd99921",
   "metadata": {},
   "outputs": [],
   "source": [
    "intersect = np.intersect1d(adata_vis.var_names, inf_aver.index)\n",
    "adata_vis = adata_vis[:, intersect].copy()\n",
    "inf_aver = inf_aver.loc[intersect, :].copy()"
   ]
  },
  {
   "cell_type": "code",
   "execution_count": null,
   "id": "65bfb79a-f5d9-4fd2-b14e-1e778e8d5fc7",
   "metadata": {},
   "outputs": [],
   "source": [
    "scvi.data.setup_anndata(adata=adata_vis, batch_key=\"sample\")\n",
    "scvi.data.view_anndata_setup(adata_vis)\n",
    "mod = cell2location.models.Cell2location(\n",
    "    adata_vis, cell_state_df=inf_aver,\n",
    "    detection_alpha=200\n",
    ")\n",
    "\n",
    "mod.train(max_epochs=30000,\n",
    "          batch_size=None,\n",
    "          train_size=1,\n",
    "          use_gpu=True)\n",
    "mod.plot_history(1000)\n",
    "plt.legend(labels=['full data training']);"
   ]
  },
  {
   "cell_type": "code",
   "execution_count": null,
   "id": "71189e55-6e09-47b3-8d5a-64f49ed0f2b3",
   "metadata": {},
   "outputs": [],
   "source": [
    "adata_vis = mod.export_posterior(\n",
    "    adata_vis, sample_kwargs={'num_samples': 1000, 'batch_size': mod.adata.n_obs, 'use_gpu': True}\n",
    ")"
   ]
  },
  {
   "cell_type": "code",
   "execution_count": null,
   "id": "8d42e280-1e52-41a7-b22b-24842c2c3fdd",
   "metadata": {},
   "outputs": [],
   "source": [
    "adata_vis.obs[adata_vis.uns['mod']['factor_names']] = adata_vis.obsm['q05_cell_abundance_w_sf']"
   ]
  },
  {
   "cell_type": "code",
   "execution_count": null,
   "id": "044cecce-8df5-46d3-950e-a87df1f9c8ca",
   "metadata": {},
   "outputs": [],
   "source": [
    "mod.samples = adata_vis.uns['mod']\n",
    "expected_dict = mod.module.model.compute_expected_per_cell_type(\n",
    "    mod.samples[\"post_sample_q05\"], mod.adata\n",
    ")\n",
    "for i, n in enumerate(mod.factor_names_):\n",
    "    adata_vis.layers[n] = expected_dict['mu'][i]"
   ]
  },
  {
   "cell_type": "code",
   "execution_count": null,
   "id": "64e688c7-4af6-4306-8f0f-ab77d6a65788",
   "metadata": {},
   "outputs": [],
   "source": [
    "adata_vis.write('Adultneural.h5ad')"
   ]
  }
 ],
 "metadata": {
  "kernelspec": {
   "display_name": "Python 3 (ipykernel)",
   "language": "python",
   "name": "python3"
  },
  "language_info": {
   "codemirror_mode": {
    "name": "ipython",
    "version": 3
   },
   "file_extension": ".py",
   "mimetype": "text/x-python",
   "name": "python",
   "nbconvert_exporter": "python",
   "pygments_lexer": "ipython3",
   "version": "3.9.7"
  }
 },
 "nbformat": 4,
 "nbformat_minor": 5
}
